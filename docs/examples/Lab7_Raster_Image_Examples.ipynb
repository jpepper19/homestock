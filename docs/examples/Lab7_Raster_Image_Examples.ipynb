{
 "cells": [
  {
   "cell_type": "markdown",
   "id": "52ea9fb5",
   "metadata": {},
   "source": [
    "# Homestock Map Demo\n",
    "\n",
    "### This notebook demos the `add_raster()`, `add_image()`, `add_video()`, and `add_wms_layer()` methods of Homestock’s `Map` class.\n",
    "\n",
    "\n",
    "### 1. Prep: Make sure homestock is importable (adjust path if running under mkdocs-jupyter)"
   ]
  },
  {
   "cell_type": "code",
   "execution_count": 6,
   "id": "90773f62",
   "metadata": {},
   "outputs": [
    {
     "data": {
      "application/vnd.jupyter.widget-view+json": {
       "model_id": "c08b5a0c704c4676987021b03acbf2f4",
       "version_major": 2,
       "version_minor": 0
      },
      "text/plain": [
       "Map(center=[37.8, -96.0], controls=(ZoomControl(options=['position', 'zoom_in_text', 'zoom_in_title', 'zoom_ou…"
      ]
     },
     "metadata": {},
     "output_type": "display_data"
    }
   ],
   "source": [
    "import sys, os\n",
    "repo_root = os.path.abspath(os.path.join(os.getcwd(), '..', '..'))\n",
    "if repo_root not in sys.path:\n",
    "    sys.path.insert(0, repo_root)\n",
    "\n",
    "from homestock.homestock import Map\n",
    "\n",
    "# Create the base map\n",
    "m = Map(center=[37.8, -96.0], zoom=4)\n",
    "m"
   ]
  },
  {
   "cell_type": "markdown",
   "id": "e2929699",
   "metadata": {},
   "source": [
    "# 2. add_raster()\n",
    "### Load a Cloud-Optimized GeoTIFF (COG) and display as a tile layer."
   ]
  },
  {
   "cell_type": "code",
   "execution_count": 1,
   "id": "bac0e4c7",
   "metadata": {},
   "outputs": [],
   "source": [
    "#cog_url = \"https://storage.googleapis.com/gcp-public-data-landsat/LC08_L1TP_044034_20200907_20200915_01_T1/LC08_L1TP_044034_20200907_20200915_01_T1_B4.TIF\"\n",
    "#m.add_raster(filepath=cog_url, name=\"Landsat Band 4\", colormap=None, opacity=0.7)\n",
    "#m"
   ]
  },
  {
   "cell_type": "markdown",
   "id": "a48bc473",
   "metadata": {},
   "source": [
    "# 3. add_image()\n",
    "### Overlay a static PNG/GIF by URL with geographic bounds."
   ]
  },
  {
   "cell_type": "code",
   "execution_count": 7,
   "id": "bdc8125d",
   "metadata": {},
   "outputs": [
    {
     "data": {
      "application/vnd.jupyter.widget-view+json": {
       "model_id": "c08b5a0c704c4676987021b03acbf2f4",
       "version_major": 2,
       "version_minor": 0
      },
      "text/plain": [
       "Map(bottom=1783.0, center=[36.890333, -95.867209], controls=(ZoomControl(options=['position', 'zoom_in_text', …"
      ]
     },
     "metadata": {},
     "output_type": "display_data"
    }
   ],
   "source": [
    "img_url = \"https://upload.wikimedia.org/wikipedia/commons/4/47/PNG_transparency_demonstration_1.png\"\n",
    "us_bounds = ((24.396308, -124.848974), (49.384358, -66.885444))  # continental US\n",
    "m.add_image(url=img_url, bounds=us_bounds, opacity=0.5)\n",
    "m"
   ]
  },
  {
   "cell_type": "markdown",
   "id": "758dbd8a",
   "metadata": {},
   "source": [
    "# 4. add_video()\n",
    "### Add a video overlay (requires a CORS-enabled MP4 URL)."
   ]
  },
  {
   "cell_type": "code",
   "execution_count": 4,
   "id": "a564a337",
   "metadata": {},
   "outputs": [
    {
     "data": {
      "application/vnd.jupyter.widget-view+json": {
       "model_id": "2953a75cab5c4efd968f43f58e146423",
       "version_major": 2,
       "version_minor": 0
      },
      "text/plain": [
       "Map(center=[22.5, -97.5], controls=(ZoomControl(options=['position', 'zoom_in_text', 'zoom_in_title', 'zoom_ou…"
      ]
     },
     "metadata": {},
     "output_type": "display_data"
    }
   ],
   "source": [
    "video_url = \"https://www.mapbox.com/bites/00188/patricia_20150620-8k.mp4\"\n",
    "video_bounds = [(15.0, -105.0), (30.0, -90.0)]\n",
    "m.add_video(url=video_url, bounds=video_bounds, opacity=0.6)\n",
    "m"
   ]
  },
  {
   "cell_type": "markdown",
   "id": "752aa41d",
   "metadata": {},
   "source": [
    "# 5. add_wms_layer()\n",
    "### Add a WMS (Web Map Service) layer from a public endpoint."
   ]
  },
  {
   "cell_type": "code",
   "execution_count": 5,
   "id": "80c4d167",
   "metadata": {},
   "outputs": [
    {
     "data": {
      "application/vnd.jupyter.widget-view+json": {
       "model_id": "2953a75cab5c4efd968f43f58e146423",
       "version_major": 2,
       "version_minor": 0
      },
      "text/plain": [
       "Map(center=[22.5, -97.5], controls=(ZoomControl(options=['position', 'zoom_in_text', 'zoom_in_title', 'zoom_ou…"
      ]
     },
     "metadata": {},
     "output_type": "display_data"
    }
   ],
   "source": [
    "wms_url = \"https://ahocevar.com/geoserver/wms\"\n",
    "m.add_wms_layer(\n",
    "    url=wms_url,\n",
    "    layers=\"topp:states\",\n",
    "    name=\"USA States (WMS)\",\n",
    "    format=\"image/png\",\n",
    "    transparent=True\n",
    ")\n",
    "m"
   ]
  }
 ],
 "metadata": {
  "kernelspec": {
   "display_name": "python3.10",
   "language": "python",
   "name": "python3.10"
  },
  "language_info": {
   "codemirror_mode": {
    "name": "ipython",
    "version": 3
   },
   "file_extension": ".py",
   "mimetype": "text/x-python",
   "name": "python",
   "nbconvert_exporter": "python",
   "pygments_lexer": "ipython3",
   "version": "3.11.8"
  }
 },
 "nbformat": 4,
 "nbformat_minor": 5
}
