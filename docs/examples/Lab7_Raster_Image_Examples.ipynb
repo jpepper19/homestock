{
 "cells": [
  {
   "cell_type": "markdown",
   "id": "52ea9fb5",
   "metadata": {},
   "source": [
    "# Homestock Map Demo\n",
    "\n",
    "### This notebook demos the `add_raster()`, `add_image()`, `add_video()`, and `add_wms_layer()` methods of Homestock’s `Map` class.\n",
    "\n",
    "\n",
    "### 1. Prep: Make sure homestock is importable (adjust path if running under mkdocs-jupyter)"
   ]
  },
  {
   "cell_type": "code",
   "execution_count": 7,
   "id": "90773f62",
   "metadata": {},
   "outputs": [
    {
     "data": {
      "application/vnd.jupyter.widget-view+json": {
       "model_id": "153c007cb30040e6ab424945315c2679",
       "version_major": 2,
       "version_minor": 0
      },
      "text/plain": [
       "Map(center=[37.8, -96.0], controls=(ZoomControl(options=['position', 'zoom_in_text', 'zoom_in_title', 'zoom_ou…"
      ]
     },
     "metadata": {},
     "output_type": "display_data"
    }
   ],
   "source": [
    "import sys, os\n",
    "repo_root = os.path.abspath(os.path.join(os.getcwd(), '..', '..'))\n",
    "if repo_root not in sys.path:\n",
    "    sys.path.insert(0, repo_root)\n",
    "\n",
    "from homestock.homestock import Map\n",
    "\n",
    "# Create the base map\n",
    "m = Map(center=[37.8, -96.0], zoom=4)\n",
    "m"
   ]
  },
  {
   "cell_type": "markdown",
   "id": "e2929699",
   "metadata": {},
   "source": [
    "# 2. add_raster()\n",
    "### Load a Cloud-Optimized GeoTIFF (COG) and display as a tile layer."
   ]
  },
  {
   "cell_type": "code",
   "execution_count": 2,
   "id": "bac0e4c7",
   "metadata": {},
   "outputs": [
    {
     "ename": "RasterioIOError",
     "evalue": "HTTP response code: 404",
     "output_type": "error",
     "traceback": [
      "\u001b[1;31m---------------------------------------------------------------------------\u001b[0m",
      "\u001b[1;31mCPLE_HttpResponseError\u001b[0m                    Traceback (most recent call last)",
      "\u001b[1;32mrasterio\\\\_base.pyx\u001b[0m in \u001b[0;36mrasterio._base.DatasetBase.__init__\u001b[1;34m()\u001b[0m\n",
      "\u001b[1;32mrasterio\\\\_base.pyx\u001b[0m in \u001b[0;36mrasterio._base.open_dataset\u001b[1;34m()\u001b[0m\n",
      "\u001b[1;32mrasterio\\\\_err.pyx\u001b[0m in \u001b[0;36mrasterio._err.exc_wrap_pointer\u001b[1;34m()\u001b[0m\n",
      "\u001b[1;31mCPLE_HttpResponseError\u001b[0m: HTTP response code: 404",
      "\nDuring handling of the above exception, another exception occurred:\n",
      "\u001b[1;31mRasterioIOError\u001b[0m                           Traceback (most recent call last)",
      "\u001b[1;32m~\\AppData\\Local\\Temp\\ipykernel_20604\\3269250537.py\u001b[0m in \u001b[0;36m<cell line: 0>\u001b[1;34m()\u001b[0m\n\u001b[0;32m      1\u001b[0m \u001b[0mcog_url\u001b[0m \u001b[1;33m=\u001b[0m \u001b[1;34m\"https://storage.googleapis.com/gcp-public-data-landsat/LC08_L1TP_044034_20200907_20200915_01_T1/LC08_L1TP_044034_20200907_20200915_01_T1_B4.TIF\"\u001b[0m\u001b[1;33m\u001b[0m\u001b[1;33m\u001b[0m\u001b[0m\n\u001b[1;32m----> 2\u001b[1;33m \u001b[0mm\u001b[0m\u001b[1;33m.\u001b[0m\u001b[0madd_raster\u001b[0m\u001b[1;33m(\u001b[0m\u001b[0mfilepath\u001b[0m\u001b[1;33m=\u001b[0m\u001b[0mcog_url\u001b[0m\u001b[1;33m,\u001b[0m \u001b[0mname\u001b[0m\u001b[1;33m=\u001b[0m\u001b[1;34m\"Landsat Band 4\"\u001b[0m\u001b[1;33m,\u001b[0m \u001b[0mcolormap\u001b[0m\u001b[1;33m=\u001b[0m\u001b[1;32mNone\u001b[0m\u001b[1;33m,\u001b[0m \u001b[0mopacity\u001b[0m\u001b[1;33m=\u001b[0m\u001b[1;36m0.7\u001b[0m\u001b[1;33m)\u001b[0m\u001b[1;33m\u001b[0m\u001b[1;33m\u001b[0m\u001b[0m\n\u001b[0m\u001b[0;32m      3\u001b[0m \u001b[0mm\u001b[0m\u001b[1;33m\u001b[0m\u001b[1;33m\u001b[0m\u001b[0m\n",
      "\u001b[1;32m~\\OneDrive\\UTK\\homestock\\homestock\\homestock.py\u001b[0m in \u001b[0;36madd_raster\u001b[1;34m(self, filepath, name, colormap, opacity, **kwargs)\u001b[0m\n\u001b[0;32m    136\u001b[0m \u001b[1;33m\u001b[0m\u001b[0m\n\u001b[0;32m    137\u001b[0m         \u001b[1;31m# Open the raster with rasterio to inspect metadata.\u001b[0m\u001b[1;33m\u001b[0m\u001b[1;33m\u001b[0m\u001b[0m\n\u001b[1;32m--> 138\u001b[1;33m         \u001b[1;32mwith\u001b[0m \u001b[0mrasterio\u001b[0m\u001b[1;33m.\u001b[0m\u001b[0mopen\u001b[0m\u001b[1;33m(\u001b[0m\u001b[0mfilepath\u001b[0m\u001b[1;33m)\u001b[0m \u001b[1;32mas\u001b[0m \u001b[0msrc\u001b[0m\u001b[1;33m:\u001b[0m\u001b[1;33m\u001b[0m\u001b[1;33m\u001b[0m\u001b[0m\n\u001b[0m\u001b[0;32m    139\u001b[0m             \u001b[1;31m# If no colormap is provided (i.e., None), try extracting it from the raster's first band.\u001b[0m\u001b[1;33m\u001b[0m\u001b[1;33m\u001b[0m\u001b[0m\n\u001b[0;32m    140\u001b[0m             \u001b[1;32mif\u001b[0m \u001b[0mcolormap\u001b[0m \u001b[1;32mis\u001b[0m \u001b[1;32mNone\u001b[0m\u001b[1;33m:\u001b[0m\u001b[1;33m\u001b[0m\u001b[1;33m\u001b[0m\u001b[0m\n",
      "\u001b[1;32m~\\AppData\\Roaming\\Python\\Python311\\site-packages\\rasterio\\env.py\u001b[0m in \u001b[0;36mwrapper\u001b[1;34m(*args, **kwds)\u001b[0m\n\u001b[0;32m    461\u001b[0m \u001b[1;33m\u001b[0m\u001b[0m\n\u001b[0;32m    462\u001b[0m         \u001b[1;32mwith\u001b[0m \u001b[0menv_ctor\u001b[0m\u001b[1;33m(\u001b[0m\u001b[0msession\u001b[0m\u001b[1;33m=\u001b[0m\u001b[0msession\u001b[0m\u001b[1;33m)\u001b[0m\u001b[1;33m:\u001b[0m\u001b[1;33m\u001b[0m\u001b[1;33m\u001b[0m\u001b[0m\n\u001b[1;32m--> 463\u001b[1;33m             \u001b[1;32mreturn\u001b[0m \u001b[0mf\u001b[0m\u001b[1;33m(\u001b[0m\u001b[1;33m*\u001b[0m\u001b[0margs\u001b[0m\u001b[1;33m,\u001b[0m \u001b[1;33m**\u001b[0m\u001b[0mkwds\u001b[0m\u001b[1;33m)\u001b[0m\u001b[1;33m\u001b[0m\u001b[1;33m\u001b[0m\u001b[0m\n\u001b[0m\u001b[0;32m    464\u001b[0m \u001b[1;33m\u001b[0m\u001b[0m\n\u001b[0;32m    465\u001b[0m     \u001b[1;32mreturn\u001b[0m \u001b[0mwrapper\u001b[0m\u001b[1;33m\u001b[0m\u001b[1;33m\u001b[0m\u001b[0m\n",
      "\u001b[1;32m~\\AppData\\Roaming\\Python\\Python311\\site-packages\\rasterio\\__init__.py\u001b[0m in \u001b[0;36mopen\u001b[1;34m(fp, mode, driver, width, height, count, crs, transform, dtype, nodata, sharing, opener, **kwargs)\u001b[0m\n\u001b[0;32m    366\u001b[0m \u001b[1;33m\u001b[0m\u001b[0m\n\u001b[0;32m    367\u001b[0m             \u001b[1;32mif\u001b[0m \u001b[0mmode\u001b[0m \u001b[1;33m==\u001b[0m \u001b[1;34m\"r\"\u001b[0m\u001b[1;33m:\u001b[0m\u001b[1;33m\u001b[0m\u001b[1;33m\u001b[0m\u001b[0m\n\u001b[1;32m--> 368\u001b[1;33m                 \u001b[0mdataset\u001b[0m \u001b[1;33m=\u001b[0m \u001b[0mDatasetReader\u001b[0m\u001b[1;33m(\u001b[0m\u001b[0mpath\u001b[0m\u001b[1;33m,\u001b[0m \u001b[0mdriver\u001b[0m\u001b[1;33m=\u001b[0m\u001b[0mdriver\u001b[0m\u001b[1;33m,\u001b[0m \u001b[0msharing\u001b[0m\u001b[1;33m=\u001b[0m\u001b[0msharing\u001b[0m\u001b[1;33m,\u001b[0m \u001b[1;33m**\u001b[0m\u001b[0mkwargs\u001b[0m\u001b[1;33m)\u001b[0m\u001b[1;33m\u001b[0m\u001b[1;33m\u001b[0m\u001b[0m\n\u001b[0m\u001b[0;32m    369\u001b[0m             \u001b[1;32melif\u001b[0m \u001b[0mmode\u001b[0m \u001b[1;33m==\u001b[0m \u001b[1;34m\"r+\"\u001b[0m\u001b[1;33m:\u001b[0m\u001b[1;33m\u001b[0m\u001b[1;33m\u001b[0m\u001b[0m\n\u001b[0;32m    370\u001b[0m                 dataset = get_writer_for_path(path, driver=driver)(\n",
      "\u001b[1;32mrasterio\\\\_base.pyx\u001b[0m in \u001b[0;36mrasterio._base.DatasetBase.__init__\u001b[1;34m()\u001b[0m\n",
      "\u001b[1;31mRasterioIOError\u001b[0m: HTTP response code: 404"
     ]
    }
   ],
   "source": [
    "cog_url = \"https://storage.googleapis.com/gcp-public-data-landsat/LC08_L1TP_044034_20200907_20200915_01_T1/LC08_L1TP_044034_20200907_20200915_01_T1_B4.TIF\"\n",
    "m.add_raster(filepath=cog_url, name=\"Landsat Band 4\", colormap=None, opacity=0.7)\n",
    "m"
   ]
  },
  {
   "cell_type": "markdown",
   "id": "a48bc473",
   "metadata": {},
   "source": [
    "# 3. add_image()\n",
    "### Overlay a static PNG/GIF by URL with geographic bounds."
   ]
  },
  {
   "cell_type": "code",
   "execution_count": 6,
   "id": "bdc8125d",
   "metadata": {},
   "outputs": [
    {
     "data": {
      "application/vnd.jupyter.widget-view+json": {
       "model_id": "38960325477445a3b2ea535ddaff05f1",
       "version_major": 2,
       "version_minor": 0
      },
      "text/plain": [
       "Map(bottom=1783.0, center=[36.890333, -95.867209], controls=(ZoomControl(options=['position', 'zoom_in_text', …"
      ]
     },
     "metadata": {},
     "output_type": "display_data"
    }
   ],
   "source": [
    "img_url = \"https://upload.wikimedia.org/wikipedia/commons/4/47/PNG_transparency_demonstration_1.png\"\n",
    "us_bounds = ((24.396308, -124.848974), (49.384358, -66.885444))  # continental US\n",
    "m.add_image(url=img_url, bounds=us_bounds, opacity=0.5)\n",
    "m"
   ]
  },
  {
   "cell_type": "markdown",
   "id": "758dbd8a",
   "metadata": {},
   "source": [
    "# 4. add_video()\n",
    "### Add a video overlay (requires a CORS-enabled MP4 URL)."
   ]
  },
  {
   "cell_type": "code",
   "execution_count": 8,
   "id": "a564a337",
   "metadata": {},
   "outputs": [
    {
     "data": {
      "application/vnd.jupyter.widget-view+json": {
       "model_id": "153c007cb30040e6ab424945315c2679",
       "version_major": 2,
       "version_minor": 0
      },
      "text/plain": [
       "Map(bottom=1783.0, center=[22.5, -97.5], controls=(ZoomControl(options=['position', 'zoom_in_text', 'zoom_in_t…"
      ]
     },
     "metadata": {},
     "output_type": "display_data"
    }
   ],
   "source": [
    "video_url = \"https://www.mapbox.com/bites/00188/patricia_20150620-8k.mp4\"\n",
    "video_bounds = [(15.0, -105.0), (30.0, -90.0)]\n",
    "m.add_video(url=video_url, bounds=video_bounds, opacity=0.6)\n",
    "m"
   ]
  },
  {
   "cell_type": "markdown",
   "id": "752aa41d",
   "metadata": {},
   "source": [
    "# 5. add_wms_layer()\n",
    "### Add a WMS (Web Map Service) layer from a public endpoint."
   ]
  },
  {
   "cell_type": "code",
   "execution_count": 9,
   "id": "80c4d167",
   "metadata": {},
   "outputs": [
    {
     "data": {
      "application/vnd.jupyter.widget-view+json": {
       "model_id": "153c007cb30040e6ab424945315c2679",
       "version_major": 2,
       "version_minor": 0
      },
      "text/plain": [
       "Map(bottom=1985.0, center=[22.51255695405145, -97.47070312500001], controls=(ZoomControl(options=['position', …"
      ]
     },
     "metadata": {},
     "output_type": "display_data"
    }
   ],
   "source": [
    "wms_url = \"https://ahocevar.com/geoserver/wms\"\n",
    "m.add_wms_layer(\n",
    "    url=wms_url,\n",
    "    layers=\"topp:states\",\n",
    "    name=\"USA States (WMS)\",\n",
    "    format=\"image/png\",\n",
    "    transparent=True\n",
    ")\n",
    "m"
   ]
  }
 ],
 "metadata": {
  "kernelspec": {
   "display_name": "python3.10",
   "language": "python",
   "name": "python3.10"
  },
  "language_info": {
   "codemirror_mode": {
    "name": "ipython",
    "version": 3
   },
   "file_extension": ".py",
   "mimetype": "text/x-python",
   "name": "python",
   "nbconvert_exporter": "python",
   "pygments_lexer": "ipython3",
   "version": "3.11.8"
  }
 },
 "nbformat": 4,
 "nbformat_minor": 5
}
